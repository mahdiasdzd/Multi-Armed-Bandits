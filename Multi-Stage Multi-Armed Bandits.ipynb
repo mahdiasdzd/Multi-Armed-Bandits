{
 "cells": [
  {
   "cell_type": "markdown",
   "id": "6c7af1af",
   "metadata": {},
   "source": [
    "# Multi-Stage Multi-Armed Bandits Model with Gradient Descent for parameter optimization"
   ]
  },
  {
   "cell_type": "code",
   "execution_count": 1,
   "id": "7aa1281a",
   "metadata": {},
   "outputs": [],
   "source": [
    "import numpy as np\n",
    "import matplotlib.pyplot as plt\n",
    "from scipy.optimize import minimize"
   ]
  },
  {
   "cell_type": "code",
   "execution_count": 2,
   "id": "9b15aa20",
   "metadata": {},
   "outputs": [],
   "source": [
    "def build_agent_arms(num_arms):\n",
    "    # Build initial arms for the agent\n",
    "    arms = []\n",
    "    for i in range(num_arms):\n",
    "        arm = {\n",
    "            \"Arm_ID\": i + 1,\n",
    "            \"Parameter_at_End_of_Stage_1\": np.random.uniform(0, 1),  # Initial parameter value\n",
    "        }\n",
    "        arms.append(arm)\n",
    "    return arms"
   ]
  },
  {
   "cell_type": "code",
   "execution_count": 3,
   "id": "c6bac1ee",
   "metadata": {},
   "outputs": [],
   "source": [
    "def evaluate_arms(arms):\n",
    "    # Evaluate arms based on some criteria \n",
    "    for arm in arms:\n",
    "        arm[\"Expected_Value_at_End_of_Stage_1\"] = np.random.uniform(0, 1)  # Placeholder evaluation\n",
    "    return arms\n"
   ]
  },
  {
   "cell_type": "code",
   "execution_count": 4,
   "id": "f491a314",
   "metadata": {},
   "outputs": [],
   "source": [
    "def test_agent_arms(arms):\n",
    "    # Test arms to identify the best arm\n",
    "    best_arm = select_best_arm(arms)\n",
    "    return best_arm"
   ]
  },
  {
   "cell_type": "code",
   "execution_count": 5,
   "id": "f19e2526",
   "metadata": {},
   "outputs": [],
   "source": [
    "def invest_agent_arms(best_arm):\n",
    "    # Invest in the best arm and observe the outcome\n",
    "    outcome = np.random.normal(best_arm[\"Expected_Value_at_End_of_Stage_1\"], 0.1)  # Placeholder outcome\n",
    "    return outcome"
   ]
  },
  {
   "cell_type": "code",
   "execution_count": 6,
   "id": "ad83e8b5",
   "metadata": {},
   "outputs": [],
   "source": [
    "def calculate_loss(arms):\n",
    "    # Calculate loss based on the provided solution method\n",
    "    loss = 0\n",
    "    for arm in arms:\n",
    "        # Stage 3: Loss calculation\n",
    "        if \"Best_Arm\" in arm:\n",
    "            V_3_star = arm[\"Expected_Value_at_End_of_Stage_3\"]\n",
    "            V_i_double_star = arm[\"Second_Best_Arm_Value\"]\n",
    "            V_h_star = arm[\"Lowest_Expected_Value\"]\n",
    "            sigma_3_star_T_3 = arm[\"Error\"]\n",
    "            \n",
    "            # Integral term for Stage 3\n",
    "            theta_i_prime_star = arm[\"Parameter_at_End_of_Stage_2\"]\n",
    "            theta_i_double_prime_star = arm[\"Parameter_at_End_of_Stage_3\"]\n",
    "            integral_stage_3 = (theta_i_double_prime_star - theta_i_prime_star)**2\n",
    "            \n",
    "            # Integral term for Stage 2 (added with 1/2 weight)\n",
    "            if \"Parameter_at_End_of_Stage_1\" in arm:\n",
    "                theta_i_prime = arm[\"Parameter_at_End_of_Stage_1\"]\n",
    "                integral_stage_2 = 0.5 * (theta_i_prime_star - theta_i_prime)**2\n",
    "            else:\n",
    "                integral_stage_2 = 0\n",
    "            \n",
    "            # Loss calculation\n",
    "            loss += ((V_3_star - V_i_double_star) / (V_3_star - V_h_star) * (1 - sigma_3_star_T_3))**(-1)\n",
    "            loss += integral_stage_3 + integral_stage_2\n",
    "    \n",
    "    return loss"
   ]
  },
  {
   "cell_type": "markdown",
   "id": "aac844ca",
   "metadata": {},
   "source": [
    "# apply Gradient Descent for parameter optimization in each stage"
   ]
  },
  {
   "cell_type": "code",
   "execution_count": 7,
   "id": "72dbd604",
   "metadata": {},
   "outputs": [],
   "source": [
    "def optimize_stage_3(arms):\n",
    "    for arm in arms:\n",
    "        if \"Best_Arm\" in arm:\n",
    "            # Perform optimization for Stage 3\n",
    "            # Define loss function for optimization\n",
    "            loss_fn = lambda params: calculate_loss_stage_3(arm, params)\n",
    "            # Initial guess for parameters\n",
    "            initial_params = [arm[\"Parameter_at_End_of_Stage_3\"]]\n",
    "            # Optimize parameters using gradient descent\n",
    "            result = minimize(loss_fn, initial_params, method='L-BFGS-B', bounds=[(0, 1)])\n",
    "            # Update arm's parameters\n",
    "            arm[\"Parameter_at_End_of_Stage_3\"] = result.x[0]\n",
    "\n",
    "def calculate_loss_stage_3(arm, params):\n",
    "    # Calculate loss for Stage 3\n",
    "    arm[\"Parameter_at_End_of_Stage_3\"] = params[0]\n",
    "    # Calculate loss based on the provided loss function\n",
    "    loss = calculate_loss(arms)\n",
    "    return loss"
   ]
  },
  {
   "cell_type": "code",
   "execution_count": 8,
   "id": "ec977aaf",
   "metadata": {},
   "outputs": [],
   "source": [
    "def optimize_stage_2(arms):\n",
    "    for arm in arms:\n",
    "        if \"Best_Arm\" in arm:\n",
    "            # Perform optimization for Stage 2\n",
    "            # Define loss function for optimization\n",
    "            loss_fn = lambda params: calculate_loss_stage_2(arm, params)\n",
    "            # Initial guess for parameters\n",
    "            initial_params = [arm[\"Parameter_at_End_of_Stage_2\"]]\n",
    "            # Optimize parameters using gradient descent\n",
    "            result = minimize(loss_fn, initial_params, method='L-BFGS-B', bounds=[(0, 1)])\n",
    "            # Update arm's parameters\n",
    "            arm[\"Parameter_at_End_of_Stage_2\"] = result.x[0]\n",
    "\n",
    "def calculate_loss_stage_2(arm, params):\n",
    "    # Calculate loss for Stage 2\n",
    "    arm[\"Parameter_at_End_of_Stage_2\"] = params[0]\n",
    "    # Calculate loss based on the provided loss function\n",
    "    loss = calculate_loss(arms)\n",
    "    return loss"
   ]
  },
  {
   "cell_type": "code",
   "execution_count": 9,
   "id": "9829b6c7",
   "metadata": {},
   "outputs": [],
   "source": [
    "def optimize_stage_1(arms):\n",
    "    for arm in arms:\n",
    "        if \"Best_Arm\" in arm:\n",
    "            # Perform optimization for Stage 1\n",
    "            # Define loss function for optimization\n",
    "            loss_fn = lambda params: calculate_loss_stage_1(arm, params)\n",
    "            # Initial guess for parameters\n",
    "            initial_params = [arm[\"Parameter_at_End_of_Stage_1\"]]\n",
    "            # Optimize parameters using gradient descent\n",
    "            result = minimize(loss_fn, initial_params, method='L-BFGS-B', bounds=[(0, 1)])\n",
    "            # Update arm's parameters\n",
    "            arm[\"Parameter_at_End_of_Stage_1\"] = result.x[0]\n",
    "\n",
    "def calculate_loss_stage_1(arm, params):\n",
    "    # Calculate loss for Stage 3\n",
    "    arm[\"Parameter_at_End_of_Stage_1\"] = params[0]\n",
    "    # Calculate loss based on the provided loss function\n",
    "    loss = calculate_loss(arms)\n",
    "    return loss"
   ]
  },
  {
   "cell_type": "code",
   "execution_count": 10,
   "id": "5cf35497",
   "metadata": {},
   "outputs": [],
   "source": [
    "def select_best_arm(arms):\n",
    "    # Select the best arm based on the highest expected value\n",
    "    best_arm = max(arms, key=lambda arm: arm[\"Expected_Value_at_End_of_Stage_1\"])\n",
    "    return best_arm"
   ]
  },
  {
   "cell_type": "markdown",
   "id": "64aab616",
   "metadata": {},
   "source": [
    "# Simulation"
   ]
  },
  {
   "cell_type": "code",
   "execution_count": 11,
   "id": "1664b67e",
   "metadata": {},
   "outputs": [],
   "source": [
    "def simulate_mab_model(num_arms, num_iterations, alfa):\n",
    "    # Simulate the multi-armed bandit model\n",
    "    arms = build_agent_arms(num_arms)\n",
    "    for i in range(num_iterations):\n",
    "        \n",
    "        # Stage 1: Build agent arms\n",
    "        arms = evaluate_arms(arms)\n",
    "        # Stage 2: Test agent arms\n",
    "        best_arm = test_agent_arms(arms)\n",
    "        # Stage 3: Invest agent arms\n",
    "        outcome = invest_agent_arms(best_arm)\n",
    "        # Stage 3: Calculate loss\n",
    "        loss = calculate_loss(arms)\n",
    "        \n",
    "        # Stage 3: Optimize Stage 3\n",
    "        optimize_stage_3(arms)\n",
    "        # Stage 2: Optimize Stage 2\n",
    "        optimize_stage_2(arms)\n",
    "        # Stage 1: Optimize Stage 1\n",
    "        optimize_stage_1(arms)\n",
    "        print(\"Iteration:\", i+1, \"- Outcome:\", outcome, \"- Loss:\", loss)\n",
    "    return arms"
   ]
  },
  {
   "cell_type": "code",
   "execution_count": 12,
   "id": "f9511a4f",
   "metadata": {},
   "outputs": [
    {
     "name": "stdout",
     "output_type": "stream",
     "text": [
      "Iteration: 1 - Outcome: 0.8459829613280452 - Loss: 0\n",
      "Iteration: 2 - Outcome: 0.5996623990157183 - Loss: 0\n",
      "Iteration: 3 - Outcome: 0.917341082427067 - Loss: 0\n",
      "Iteration: 4 - Outcome: 0.7956923607104767 - Loss: 0\n",
      "Iteration: 5 - Outcome: 0.6456757333354781 - Loss: 0\n",
      "Iteration: 6 - Outcome: 0.7416058620475919 - Loss: 0\n",
      "Iteration: 7 - Outcome: 0.7094811014772344 - Loss: 0\n",
      "Iteration: 8 - Outcome: 1.1154446383426155 - Loss: 0\n",
      "Iteration: 9 - Outcome: 1.1535890156119424 - Loss: 0\n",
      "Iteration: 10 - Outcome: 0.6054686179911182 - Loss: 0\n"
     ]
    }
   ],
   "source": [
    "def main():\n",
    "    \n",
    "    num_arms = 5\n",
    "    num_iterations = 10\n",
    "    alfa = 0.01\n",
    "    \n",
    "    simulate_mab_model(num_arms, num_iterations, alfa)\n",
    "\n",
    "if __name__ == \"__main__\":\n",
    "    main()"
   ]
  },
  {
   "cell_type": "code",
   "execution_count": 1,
   "id": "a7f0afde",
   "metadata": {},
   "outputs": [
    {
     "data": {
      "image/png": "[encoded data removed]",
      "text/plain": [
       "<Figure size 432x288 with 1 Axes>"
      ]
     },
     "metadata": {
      "needs_background": "light"
     },
     "output_type": "display_data"
    }
   ],
   "source": [
    "iterations = list(range(1, 11))\n",
    "outcomes = [0.8459829613280452, 0.5996623990157183, 0.917341082427067, 0.7956923607104767, 0.6456757333354781,\n",
    "            0.7416058620475919, 0.7094811014772344, 1.1154446383426155, 1.1535890156119424, 0.6054686179911182]\n",
    "\n",
    "plt.plot(iterations, outcomes, marker='o', linestyle='-')\n",
    "plt.xlabel('Iteration')\n",
    "plt.ylabel('Outcome')\n",
    "plt.title('Outcome vs Iteration')\n",
    "plt.grid(True)\n",
    "plt.show()\n"
   ]
  },
  {
   "cell_type": "code",
   "execution_count": null,
   "id": "9f017431",
   "metadata": {},
   "outputs": [],
   "source": []
  }
 ],
 "metadata": {
  "kernelspec": {
   "display_name": "Python 3 (ipykernel)",
   "language": "python",
   "name": "python3"
  },
  "language_info": {
   "codemirror_mode": {
    "name": "ipython",
    "version": 3
   },
   "file_extension": ".py",
   "mimetype": "text/x-python",
   "name": "python",
   "nbconvert_exporter": "python",
   "pygments_lexer": "ipython3",
   "version": "3.9.7"
  }
 },
 "nbformat": 4,
 "nbformat_minor": 5
}
